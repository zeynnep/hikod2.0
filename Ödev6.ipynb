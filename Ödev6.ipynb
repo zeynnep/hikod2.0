{
 "cells": [
  {
   "cell_type": "markdown",
   "metadata": {},
   "source": [
    "# Soru 1\n",
    "+ Sayılardan oluşan bir boyutlu array oluşturulur. Arrayi oluştururken sayıların veri tipini integer olarak belirtilir. Oluşturulan arrayin boyut, eleman sayısı bilgilerine bakılır."
   ]
  },
  {
   "cell_type": "code",
   "execution_count": 3,
   "metadata": {},
   "outputs": [],
   "source": [
    "import numpy as np\n",
    "my_array = np.array([1, 2, 3, 4, 5], dtype=int)\n",
    "boyut = my_array.ndim\n",
    "eleman_sayisi = my_array.size"
   ]
  },
  {
   "cell_type": "code",
   "execution_count": 4,
   "metadata": {},
   "outputs": [
    {
     "name": "stdout",
     "output_type": "stream",
     "text": [
      "Dizi Boyutu: 1\n",
      "Eleman Sayısı: 5\n"
     ]
    }
   ],
   "source": [
    "print(\"Dizi Boyutu:\", boyut)\n",
    "print(\"Eleman Sayısı:\", eleman_sayisi)"
   ]
  },
  {
   "cell_type": "markdown",
   "metadata": {},
   "source": [
    "# Soru 2\n",
    "+ İki ve üç boyutlu arrayler oluşturulur. Bu arraylerin boyut, eleman sayısı, satır, sütun bilgilerine ulaşılır. Arrayler üzerinde indexleme ve dilimleme(slicing) işlemi yapılır."
   ]
  },
  {
   "cell_type": "code",
   "execution_count": 5,
   "metadata": {},
   "outputs": [],
   "source": [
    "import numpy as np\n",
    "three_dimensional_array = np.array([[[1, 2], [3, 4]], [[5, 6], [7, 8]], [[9, 10], [11, 12]]])\n",
    "boyut = three_dimensional_array.ndim  # Dizi boyutu (bu örnekte 3 olacak)\n",
    "eleman_sayisi = three_dimensional_array.size  # Dizi içindeki toplam eleman sayısı\n",
    "katman, satir, sutun = three_dimensional_array.shape  # Dizi katman, satır ve sütun sayıları\n"
   ]
  },
  {
   "cell_type": "code",
   "execution_count": 6,
   "metadata": {},
   "outputs": [
    {
     "name": "stdout",
     "output_type": "stream",
     "text": [
      "Dizi Boyutu: 3\n",
      "Eleman Sayısı: 12\n",
      "Katman Sayısı: 3\n",
      "Satır Sayısı: 2\n",
      "Sütun Sayısı: 2\n"
     ]
    }
   ],
   "source": [
    "print(\"Dizi Boyutu:\", boyut)\n",
    "print(\"Eleman Sayısı:\", eleman_sayisi)\n",
    "print(\"Katman Sayısı:\", katman)\n",
    "print(\"Satır Sayısı:\", satir)\n",
    "print(\"Sütun Sayısı:\", sutun)\n"
   ]
  },
  {
   "cell_type": "code",
   "execution_count": 7,
   "metadata": {},
   "outputs": [],
   "source": [
    "ilk_katman = three_dimensional_array[0]  # İlk katmanı al\n",
    "ikinci_satir = three_dimensional_array[:, 1, :]  # İkinci satırı al"
   ]
  },
  {
   "cell_type": "code",
   "execution_count": 8,
   "metadata": {},
   "outputs": [
    {
     "name": "stdout",
     "output_type": "stream",
     "text": [
      "İlk Katman: [[1 2]\n",
      " [3 4]]\n",
      "İkinci Satır: [[ 3  4]\n",
      " [ 7  8]\n",
      " [11 12]]\n"
     ]
    }
   ],
   "source": [
    "print(\"İlk Katman:\", ilk_katman)\n",
    "print(\"İkinci Satır:\", ikinci_satir)"
   ]
  },
  {
   "cell_type": "markdown",
   "metadata": {},
   "source": [
    "# Soru 3\n",
    "+ Numpy fonksiyonu kullanarak bir, iki ve üç boyutlu arrayler oluşturulur. Arrayler üzerinde indexleme ve dilimleme(slicing) işlemi yapılır"
   ]
  },
  {
   "cell_type": "code",
   "execution_count": 11,
   "metadata": {},
   "outputs": [
    {
     "name": "stdout",
     "output_type": "stream",
     "text": [
      "İlk Eleman: 1\n",
      "İkinci Eleman: 2\n",
      "Alt Dizi: [2 3 4]\n"
     ]
    }
   ],
   "source": [
    "import numpy as np\n",
    "\n",
    "# Bir boyutlu bir dizi oluşturma\n",
    "bir_boyutlu = np.array([1, 2, 3, 4, 5])\n",
    "\n",
    "# Dizi indeksleme\n",
    "ilk_eleman = bir_boyutlu[0]  # İlk elemanı al\n",
    "ikinci_eleman = bir_boyutlu[1]  # İkinci elemanı al\n",
    "\n",
    "print(\"İlk Eleman:\", ilk_eleman)\n",
    "print(\"İkinci Eleman:\", ikinci_eleman)\n",
    "\n",
    "# Dizi dilimleme (slicing)\n",
    "alt_dizi = bir_boyutlu[1:4]  # 2. elemandan 4. elemana kadar olan alt diziyi al\n",
    "\n",
    "print(\"Alt Dizi:\", alt_dizi)"
   ]
  },
  {
   "cell_type": "code",
   "execution_count": 12,
   "metadata": {},
   "outputs": [
    {
     "name": "stdout",
     "output_type": "stream",
     "text": [
      "Birinci Satır: [1 2 3]\n",
      "İkinci Sütun: [2 5 8]\n",
      "Birinci Satırın İkinci Elemanı: 2\n",
      "Alt Dizi: [[4 5]\n",
      " [7 8]]\n"
     ]
    }
   ],
   "source": [
    "import numpy as np\n",
    "\n",
    "# İki boyutlu bir dizi oluşturma\n",
    "iki_boyutlu = np.array([[1, 2, 3], [4, 5, 6], [7, 8, 9]])\n",
    "\n",
    "# Dizi indeksleme\n",
    "birinci_satir = iki_boyutlu[0]  # İlk satırı al\n",
    "ikinci_sutun = iki_boyutlu[:, 1]  # İkinci sütunu al\n",
    "birinci_satir_ikinci_eleman = iki_boyutlu[0, 1]  # İlk satırın ikinci elemanını al\n",
    "\n",
    "print(\"Birinci Satır:\", birinci_satir)\n",
    "print(\"İkinci Sütun:\", ikinci_sutun)\n",
    "print(\"Birinci Satırın İkinci Elemanı:\", birinci_satir_ikinci_eleman)\n",
    "\n",
    "# Dizi dilimleme (slicing)\n",
    "alt_dizi = iki_boyutlu[1:3, 0:2]  # 2. ve 3. satırları, 1. ve 2. sütunları al\n",
    "\n",
    "print(\"Alt Dizi:\", alt_dizi)"
   ]
  },
  {
   "cell_type": "code",
   "execution_count": 13,
   "metadata": {},
   "outputs": [
    {
     "name": "stdout",
     "output_type": "stream",
     "text": [
      "Birinci Katman: [[1 2]\n",
      " [3 4]]\n",
      "İkinci Katmanın Tüm Satırları: [[ 3  4]\n",
      " [ 7  8]\n",
      " [11 12]]\n",
      "Üçüncü Katmanın İkinci Satırının İlk Elemanı: 11\n",
      "Alt Dizi: [[[ 5]\n",
      "  [ 7]]\n",
      "\n",
      " [[ 9]\n",
      "  [11]]]\n"
     ]
    }
   ],
   "source": [
    "import numpy as np\n",
    "\n",
    "# Üç boyutlu bir dizi oluşturma\n",
    "uc_boyutlu = np.array([[[1, 2], [3, 4]], [[5, 6], [7, 8]], [[9, 10], [11, 12]]])\n",
    "\n",
    "# Dizi indeksleme\n",
    "birinci_katman = uc_boyutlu[0]  # İlk katmanı al\n",
    "ikinci_satir = uc_boyutlu[:, 1, :]  # İkinci katmanın tüm satırlarını al\n",
    "ucuncu_eleman = uc_boyutlu[2, 1, 0]  # Üçüncü katmanın ikinci satırının ilk elemanını al\n",
    "\n",
    "print(\"Birinci Katman:\", birinci_katman)\n",
    "print(\"İkinci Katmanın Tüm Satırları:\", ikinci_satir)\n",
    "print(\"Üçüncü Katmanın İkinci Satırının İlk Elemanı:\", ucuncu_eleman)\n",
    "\n",
    "# Dizi dilimleme (slicing)\n",
    "alt_dizi = uc_boyutlu[1:3, :, 0:1]  # 2. ve 3. katmanları al, tüm satırları ve ilk sütunu al\n",
    "\n",
    "print(\"Alt Dizi:\", alt_dizi)"
   ]
  },
  {
   "cell_type": "markdown",
   "metadata": {},
   "source": [
    "# Soru 4 \n",
    "+ Sıfırlardan oluşan ve birlerden oluşan iki tane iki boyutlu array oluşturulur. Bu arrayler satır ve sütun bazında birleştirilir."
   ]
  },
  {
   "cell_type": "code",
   "execution_count": 14,
   "metadata": {},
   "outputs": [
    {
     "name": "stdout",
     "output_type": "stream",
     "text": [
      "Sıfırlardan Oluşan Dizi:\n",
      "[[0. 0. 0.]\n",
      " [0. 0. 0.]]\n",
      "Birlerden Oluşan Dizi:\n",
      "[[1. 1. 1.]\n",
      " [1. 1. 1.]]\n",
      "Birleştirilmiş Dizi:\n",
      "[[0. 0. 0. 1. 1. 1.]\n",
      " [0. 0. 0. 1. 1. 1.]]\n"
     ]
    }
   ],
   "source": [
    "import numpy as np\n",
    "\n",
    "# Sıfırlardan oluşan birinci dizi oluşturma (2x3)\n",
    "zeros_array = np.zeros((2, 3))\n",
    "\n",
    "# Birlerden oluşan ikinci dizi oluşturma (2x3)\n",
    "ones_array = np.ones((2, 3))\n",
    "\n",
    "# Dizileri satır bazında birleştirme (yatay birleştirme)\n",
    "birlestirilmis_dizi = np.concatenate((zeros_array, ones_array), axis=1)\n",
    "\n",
    "print(\"Sıfırlardan Oluşan Dizi:\")\n",
    "print(zeros_array)\n",
    "\n",
    "print(\"Birlerden Oluşan Dizi:\")\n",
    "print(ones_array)\n",
    "\n",
    "print(\"Birleştirilmiş Dizi:\")\n",
    "print(birlestirilmis_dizi)"
   ]
  }
 ],
 "metadata": {
  "kernelspec": {
   "display_name": "Python 3",
   "language": "python",
   "name": "python3"
  },
  "language_info": {
   "codemirror_mode": {
    "name": "ipython",
    "version": 3
   },
   "file_extension": ".py",
   "mimetype": "text/x-python",
   "name": "python",
   "nbconvert_exporter": "python",
   "pygments_lexer": "ipython3",
   "version": "3.10.3"
  },
  "orig_nbformat": 4
 },
 "nbformat": 4,
 "nbformat_minor": 2
}
