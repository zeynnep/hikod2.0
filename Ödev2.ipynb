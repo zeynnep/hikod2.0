{
 "cells": [
  {
   "cell_type": "markdown",
   "metadata": {},
   "source": [
    "## Ödev-1: \n",
    "+ Kullanıcıdan maaş bilgisini istenir ve bu bilgiye göre maaşından ne kadar vergi kesileceğini hesaplanır. Kullanıcının geliri;\n",
    "+ 10000 ve altındaysa maaşından %5 kesinti olur.\n",
    "+ 25000 ve altındaysa maaşından %10 kesinti olur.\n",
    "+ 45000 ve altındaysa maaşından %25 kesinti olur.\n",
    "+ Diğer koşullarda %30 kesinti olur.\n",
    "+ Bu durumlara göre kullanıcının yeni maaşı yazdırılır.\n",
    "\n"
   ]
  },
  {
   "cell_type": "code",
   "execution_count": 1,
   "metadata": {},
   "outputs": [
    {
     "name": "stdout",
     "output_type": "stream",
     "text": [
      "12345.0\n",
      "Maaşınızdan kesilecek vergi miktarı: 1234.5 TL\n"
     ]
    }
   ],
   "source": [
    "kullanıcı_maaş = float( input (\"Maaaş bilginizi girer misiniz\"))\n",
    "print(kullanıcı_maaş)\n",
    "if kullanıcı_maaş <= 10000:\n",
    "    kesinti_orani = 0.05\n",
    "elif kullanıcı_maaş <= 25000:\n",
    "    kesinti_orani = 0.15    \n",
    "elif kullanıcı_maaş <= 45000:\n",
    "    kesinti_orani = 0.25\n",
    "else:\n",
    "    kesinti_orani = 0.30\n",
    "\n",
    "vergi_kesintisi = kullanıcı_maaş * kesinti_orani\n",
    "print(f\"Maaşınızdan kesilecek vergi miktarı: {vergi_kesintisi} TL\")\n"
   ]
  },
  {
   "cell_type": "markdown",
   "metadata": {},
   "source": [
    "## Ödev 2: \n",
    "+ Kullanıcıdan kullanıcı adı ve şifre oluşturmasını istenir. Şifrenin uzunluğu altı haneye ulaşmışsa hesabınız oluşturuldu mesajı alınır, altı haneden azsa altı haneli şifre oluşturması gerektiğinin mesajı alınır. (Sadece koşul kullanılması yeterli.)"
   ]
  },
  {
   "cell_type": "code",
   "execution_count": 2,
   "metadata": {},
   "outputs": [
    {
     "name": "stdout",
     "output_type": "stream",
     "text": [
      "Hesabınız başarıyla oluşturuldu.\n"
     ]
    }
   ],
   "source": [
    "kullanici_adi = input(\"Kullanıcı adınızı oluşturun: \")\n",
    "sifre = input(\"Şifrenizi oluşturun: \")\n",
    "if len(sifre) >= 6:\n",
    "    print(\"Hesabınız başarıyla oluşturuldu.\")\n",
    "else:\n",
    "    print(\"Şifreniz en az altı karakter uzunluğunda olmalıdır. Lütfen daha uzun bir şifre oluşturun.\")"
   ]
  },
  {
   "cell_type": "markdown",
   "metadata": {},
   "source": [
    "## Ödev-3: \n",
    "+ Bir önceki örnek geliştirilir.\n",
    "+ Kullanıcı girdiği şifre 5 ve 10 hane arasında olmak zorunda.\n",
    "+ Eğer bu koşula uyuyorsa \"Hesabınız oluşturuldu.\" mesajı alır.\n",
    "+ Koşulu sağlamıyorsa \"Lütfen girdiniz şifre 5 haneden az 1 haneden fazla olmasın!\" uyarısı alır.\n",
    "+ Bunu oluştururken kullanıcı istediğimiz şartlarda şifre oluşturana kadar sormaya devam eder"
   ]
  },
  {
   "cell_type": "code",
   "execution_count": 3,
   "metadata": {},
   "outputs": [
    {
     "name": "stdout",
     "output_type": "stream",
     "text": [
      "Hesabınız başarıyla oluşturuldu.\n"
     ]
    }
   ],
   "source": [
    "while True:\n",
    "    sifre = input(\"Şifrenizi 5 ile 10 karakter arasında olacak şekilde oluşturun: \")\n",
    "\n",
    "    if 5 <= len(sifre) <= 10:\n",
    "        print(\"Hesabınız başarıyla oluşturuldu.\")\n",
    "        break\n",
    "    else:\n",
    "        print(\"Lütfen girdiğiniz şifre 5 ile 10 karakter arasında olacak şekilde oluşturun.\")"
   ]
  },
  {
   "cell_type": "markdown",
   "metadata": {},
   "source": [
    "## Ödev-4: \n",
    "+ Kullanıcıdan isim ve şifre isteyeceğiz ve şifre girişi için üç hak verilir.\n",
    "+ Eğer önceden tanımlı şifre ile kullanıcıdan gelen şifre aynıysa \"Giriş yapıldı.\" yazar.\n",
    "+ Şifre girişi yanlışsa \"Yanlış şifre girildi!\" uyarısı verilsin ve üç yanlış denemede program biter.\n",
    "+ Tercihe göre kalan hak bilgisi verilir."
   ]
  },
  {
   "cell_type": "code",
   "execution_count": 4,
   "metadata": {},
   "outputs": [
    {
     "name": "stdout",
     "output_type": "stream",
     "text": [
      "Yanlış şifre girdiniz. Kalan deneme hakkınız: 2\n",
      "Yanlış şifre girdiniz. Kalan deneme hakkınız: 1\n"
     ]
    }
   ],
   "source": [
    "dogru_kullanici_adi = \"kullanici\"\n",
    "dogru_sifre = \"sifre123\"\n",
    "kullanici_adi = input(\"Kullanıcı Adı: \")\n",
    "sifre = input(\"Şifre: \")\n",
    "deneme_hakki = 3\n",
    "while kullanici_adi != dogru_kullanici_adi or sifre != dogru_sifre:\n",
    "    deneme_hakki -= 1\n",
    "    if deneme_hakki == 0:\n",
    "        print(\"Üç kez yanlış şifre girdiniz. Program sonlandırılıyor.\")\n",
    "        break\n",
    "    print(f\"Yanlış şifre girdiniz. Kalan deneme hakkınız: {deneme_hakki}\")\n",
    "    kullanici_adi = input(\"Kullanıcı Adı: \")\n",
    "    sifre = input(\"Şifre: \")\n",
    "    if kullanici_adi == dogru_kullanici_adi and sifre == dogru_sifre:\n",
    "        print(\"Giriş yapıldı.\")"
   ]
  }
 ],
 "metadata": {
  "kernelspec": {
   "display_name": "Python 3",
   "language": "python",
   "name": "python3"
  },
  "language_info": {
   "codemirror_mode": {
    "name": "ipython",
    "version": 3
   },
   "file_extension": ".py",
   "mimetype": "text/x-python",
   "name": "python",
   "nbconvert_exporter": "python",
   "pygments_lexer": "ipython3",
   "version": "3.10.3"
  },
  "orig_nbformat": 4
 },
 "nbformat": 4,
 "nbformat_minor": 2
}
