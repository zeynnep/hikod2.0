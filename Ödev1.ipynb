{
 "cells": [
  {
   "cell_type": "markdown",
   "metadata": {},
   "source": [
    "# Exercise 1\n",
    "\n",
    "x = 3 ----> floata çevirelim. Çevirdikten sonra beri tipinide yazdıralım.\n",
    "\n",
    "y = 4.5 -----> integere çevirelim. Çevirdikten sonra beri tipinide yazdıralım.\n",
    "\n",
    "z = \"8\" -----> integera çevirelim. Çevirdikten sonra beri tipinide yazdıralım.\n",
    "\n",
    "a = \"12\" -----> floata çevirelim. Çevirdikten sonra beri tipinide yazdıralım.\n",
    "\n",
    "b = \"46.8\" ------> integera çevirelim. Çevirdikten sonra beri tipinide yazdıralım."
   ]
  },
  {
   "cell_type": "code",
   "execution_count": 4,
   "metadata": {},
   "outputs": [
    {
     "name": "stdout",
     "output_type": "stream",
     "text": [
      "<class 'float'>\n",
      "<class 'int'>\n",
      "<class 'int'>\n",
      "<class 'float'>\n",
      "<class 'int'>\n"
     ]
    }
   ],
   "source": [
    "\n",
    "x = 3\n",
    "x = float(x)\n",
    "print( type(x))\n",
    "\n",
    "\n",
    "y = 4.5\n",
    "y = int(y)\n",
    "print( type(y))\n",
    "\n",
    "\n",
    "z = \"8\"\n",
    "z = int(z)\n",
    "print( type(z))\n",
    "\n",
    "a = \"12\"\n",
    "a = float(a)\n",
    "print( type(a))\n",
    "\n",
    "\n",
    "b = \"46.8\"\n",
    "b = int(float(b))  \n",
    "print(type(b))"
   ]
  },
  {
   "cell_type": "markdown",
   "metadata": {},
   "source": [
    "# Excersice 2\n",
    "\n",
    "Üç değişken belirleyelim, bu değişkenler kişi adı olsun. Değişkenlere kişilerin yaşlarını atayalım. (ÖRN: ayse=22)\n",
    "\n",
    "Belirlediğimiz üç değişkeni birbiriyle karşılaştırma operatörleri ile karşılatıralım. (ayse>mehmet)\n",
    "\n",
    "Bu karşılaştırmalara mantıksal operatörleri de ekleyelim."
   ]
  },
  {
   "cell_type": "code",
   "execution_count": 8,
   "metadata": {},
   "outputs": [
    {
     "data": {
      "text/plain": [
       "False"
      ]
     },
     "execution_count": 8,
     "metadata": {},
     "output_type": "execute_result"
    }
   ],
   "source": [
    "zeynep = 20\n",
    "cenk = 22\n",
    "sıla = 19\n",
    "zeynep > cenk\n",
    "\n",
    "\n"
   ]
  },
  {
   "cell_type": "code",
   "execution_count": 10,
   "metadata": {},
   "outputs": [
    {
     "data": {
      "text/plain": [
       "True"
      ]
     },
     "execution_count": 10,
     "metadata": {},
     "output_type": "execute_result"
    }
   ],
   "source": [
    "sıla < cenk"
   ]
  },
  {
   "cell_type": "code",
   "execution_count": 9,
   "metadata": {},
   "outputs": [
    {
     "data": {
      "text/plain": [
       "False"
      ]
     },
     "execution_count": 9,
     "metadata": {},
     "output_type": "execute_result"
    }
   ],
   "source": [
    "zeynep == sıla"
   ]
  },
  {
   "cell_type": "markdown",
   "metadata": {},
   "source": [
    "# Excercise 3\n",
    "\n",
    "Kullanıcıdan iki değer girmesini isteyin. Girilen değerlerin toplama,çıkarma,çarpma,bölme sonuçlarını yazdıralım."
   ]
  },
  {
   "cell_type": "code",
   "execution_count": 15,
   "metadata": {},
   "outputs": [],
   "source": [
    "sayi1 = float(input(\"İlk sayıyı girin: \"))\n",
    "sayi2 = float(input(\"İkinci sayıyı girin: \"))\n",
    "\n",
    "\n"
   ]
  },
  {
   "cell_type": "code",
   "execution_count": 17,
   "metadata": {},
   "outputs": [
    {
     "data": {
      "text/plain": [
       "12.0"
      ]
     },
     "execution_count": 17,
     "metadata": {},
     "output_type": "execute_result"
    }
   ],
   "source": [
    "sayi1 "
   ]
  },
  {
   "cell_type": "code",
   "execution_count": 16,
   "metadata": {},
   "outputs": [
    {
     "data": {
      "text/plain": [
       "9.0"
      ]
     },
     "execution_count": 16,
     "metadata": {},
     "output_type": "execute_result"
    }
   ],
   "source": [
    "\n",
    "sayi2"
   ]
  },
  {
   "cell_type": "code",
   "execution_count": 20,
   "metadata": {},
   "outputs": [
    {
     "name": "stdout",
     "output_type": "stream",
     "text": [
      "3.0\n"
     ]
    }
   ],
   "source": [
    "çıkartma = sayi1-sayi2\n",
    "print(çıkartma)"
   ]
  },
  {
   "cell_type": "code",
   "execution_count": 18,
   "metadata": {},
   "outputs": [
    {
     "name": "stdout",
     "output_type": "stream",
     "text": [
      "21.0\n"
     ]
    }
   ],
   "source": [
    "toplam = sayi1 + sayi2\n",
    "print(toplam)"
   ]
  },
  {
   "cell_type": "code",
   "execution_count": 21,
   "metadata": {},
   "outputs": [
    {
     "name": "stdout",
     "output_type": "stream",
     "text": [
      "108.0\n"
     ]
    }
   ],
   "source": [
    "çarpma = sayi1 *sayi2\n",
    "print(çarpma)"
   ]
  },
  {
   "cell_type": "code",
   "execution_count": 23,
   "metadata": {},
   "outputs": [
    {
     "name": "stdout",
     "output_type": "stream",
     "text": [
      "1.3333333333333333\n"
     ]
    }
   ],
   "source": [
    "bölme = sayi1 / sayi2\n",
    "print(bölme)"
   ]
  },
  {
   "cell_type": "markdown",
   "metadata": {},
   "source": [
    "# Excercise 4\n",
    "\n",
    "Kullanıcıdan isim, yaş, şehir ve meslek bilgilerini isteyelim ve cevaplarını yazdıralım."
   ]
  },
  {
   "cell_type": "code",
   "execution_count": 24,
   "metadata": {},
   "outputs": [
    {
     "name": "stdout",
     "output_type": "stream",
     "text": [
      "İsim: zeynep\n",
      "Yaş: 20\n",
      "Şehir: ordu\n",
      "Meslek: yazılım geliştirici\n"
     ]
    }
   ],
   "source": [
    "isim = input(\"Adınızı girin: \")\n",
    "yas = input(\"Yaşınızı girin: \")\n",
    "sehir = input(\"Şehrinizi girin: \")\n",
    "meslek = input(\"Mesleğinizi girin: \")\n",
    "\n",
    "print(\"İsim: \" + isim)\n",
    "print(\"Yaş: \" + yas)\n",
    "print(\"Şehir: \" + sehir)\n",
    "print(\"Meslek: \" + meslek)"
   ]
  },
  {
   "cell_type": "markdown",
   "metadata": {},
   "source": [
    "# Excersice 5 \n",
    "\n",
    "\"Hi-Kod Veri Bilimi Atölyesi\" ifadesini bir değişkene tanımlayalım.\n",
    "- İfadedeki her bir kelimeyi (\"Hi-Kod\", \"Veri\", \"Bilimi\", \"Atölyesi\") değişken içinden seçelim.\n",
    "- İfadeyi hepsini büyük harf olacak hale çevirelim.  (\"HI-KOD VERİ BİLİMİ ATÖLYESİ\")\n",
    "- İfadeyi hepsini büyük harf olacak hale çevirelim.(\"hi-kod veri bilimi atölyesi\")\n",
    "\n",
    "\"0123456789\" ifadesindeki yalnızca çift sayıları ve yalnızca tek sayıları seçelim. (\"02468\", \"13579\")\n"
   ]
  },
  {
   "cell_type": "markdown",
   "metadata": {},
   "source": []
  },
  {
   "cell_type": "code",
   "execution_count": 26,
   "metadata": {},
   "outputs": [
    {
     "name": "stdout",
     "output_type": "stream",
     "text": [
      "Hi-Kod Veri Bilimi Atölyesi\n",
      "Kelimeler: ['Hi-Kod', 'Veri', 'Bilimi', 'Atölyesi']\n",
      "Büyük Harf: HI-KOD VERI BILIMI ATÖLYESI\n",
      "Küçük Harf: hi-kod veri bilimi atölyesi\n",
      "Çift Sayılar: 02468\n",
      "Tek Sayılar: 13579\n"
     ]
    }
   ],
   "source": [
    "ifade = \"Hi-Kod Veri Bilimi Atölyesi\"\n",
    "kelimeler = ifade.split()\n",
    "buyuk_harf = ifade.upper()\n",
    "kucuk_harf = ifade.lower()\n",
    "sayilar = \"0123456789\"\n",
    "cift_sayilar = ''.join([c for c in sayilar if int(c) % 2 == 0])\n",
    "tek_sayilar = ''.join([c for c in sayilar if int(c) % 2 != 0])\n",
    "\n",
    "print(ifade)\n",
    "print(\"Kelimeler:\", kelimeler)\n",
    "print(\"Büyük Harf:\", buyuk_harf)\n",
    "print(\"Küçük Harf:\", kucuk_harf)\n",
    "print(\"Çift Sayılar:\", cift_sayilar)\n",
    "print(\"Tek Sayılar:\", tek_sayilar)"
   ]
  }
 ],
 "metadata": {
  "kernelspec": {
   "display_name": "Python 3 (ipykernel)",
   "language": "python",
   "name": "python3"
  },
  "language_info": {
   "codemirror_mode": {
    "name": "ipython",
    "version": 3
   },
   "file_extension": ".py",
   "mimetype": "text/x-python",
   "name": "python",
   "nbconvert_exporter": "python",
   "pygments_lexer": "ipython3",
   "version": "3.10.3"
  },
  "vscode": {
   "interpreter": {
    "hash": "c881c981974d1277f7400ccc3574e04ed710c1350960151bc46c299926b2e061"
   }
  }
 },
 "nbformat": 4,
 "nbformat_minor": 2
}
