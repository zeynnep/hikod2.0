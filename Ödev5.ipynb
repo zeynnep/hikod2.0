{
 "cells": [
  {
   "cell_type": "code",
   "execution_count": 9,
   "metadata": {},
   "outputs": [
    {
     "name": "stdout",
     "output_type": "stream",
     "text": [
      "zeynep adlı öğrencinin fizik  dersi notu: 67.0\n"
     ]
    }
   ],
   "source": [
    "\n",
    "ogrncınotları_sozlugu = {} \n",
    "# Kullanıcıdan öğrenci bilgilerini alıyoruz \n",
    "ogrenci_adi = input(\"Öğrencinin adını girin:\") \n",
    "ders_adi = input(\"Ders adını girin (Matematik, Fizik, Kimya): \") \n",
    "notu = float(input(\"Notu girin:\")) \n",
    "# Sözlüğe bilgileri ekliyoruz \n",
    "ogrncınotları_sozlugu[ogrenci_adi] = {ders_adi: notu} \n",
    "# Kullanıcının istediği bilgiyi yazdırıyoruz \n",
    "print(f\"{ogrenci_adi} adlı öğrencinin {ders_adi} dersi notu: {notu}\")"
   ]
  }
 ],
 "metadata": {
  "kernelspec": {
   "display_name": "Python 3",
   "language": "python",
   "name": "python3"
  },
  "language_info": {
   "codemirror_mode": {
    "name": "ipython",
    "version": 3
   },
   "file_extension": ".py",
   "mimetype": "text/x-python",
   "name": "python",
   "nbconvert_exporter": "python",
   "pygments_lexer": "ipython3",
   "version": "3.10.3"
  },
  "orig_nbformat": 4
 },
 "nbformat": 4,
 "nbformat_minor": 2
}
