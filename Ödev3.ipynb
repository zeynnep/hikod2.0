{
 "cells": [
  {
   "cell_type": "markdown",
   "metadata": {},
   "source": [
    "+ Kullanıcıdan pi değeri ve yarıçap bilgisi alarak dairenin alanını hesaplayan bir fonksiyon oluşturulur."
   ]
  },
  {
   "cell_type": "code",
   "execution_count": 1,
   "metadata": {},
   "outputs": [
    {
     "name": "stdout",
     "output_type": "stream",
     "text": [
      "Dairenin alanı: 12.56\n"
     ]
    }
   ],
   "source": [
    "def daire_alani_hesapla(pi, yaricap):\n",
    "    alan = pi * yaricap**2\n",
    "    return alan\n",
    "\n",
    "pi = float(input(\"Pi değerini girin (örneğin, 3.14): \"))\n",
    "yaricap = float(input(\"Dairenin yarıçapını girin: \"))\n",
    "\n",
    "alan = daire_alani_hesapla(pi, yaricap)\n",
    "print(f\"Dairenin alanı: {alan}\")"
   ]
  },
  {
   "cell_type": "markdown",
   "metadata": {},
   "source": [
    "+ Faktöriyel adında fonksiyon oluşturulur. Döngü kullanarak parametre olarak girilen sayının faktöriyeli hesaplanır. Format metodunu kullanılarak ekrana yazdırılır."
   ]
  },
  {
   "cell_type": "code",
   "execution_count": 2,
   "metadata": {},
   "outputs": [
    {
     "name": "stdout",
     "output_type": "stream",
     "text": [
      "13 sayısının faktöriyeli = 6227020800\n"
     ]
    }
   ],
   "source": [
    "def faktoriyel(sayi):\n",
    "    faktoriyel_sonuc = 1\n",
    "    for i in range(1, sayi + 1):\n",
    "        faktoriyel_sonuc *= i\n",
    "    return faktoriyel_sonuc\n",
    "\n",
    "sayi = int(input(\"Faktöriyelini hesaplamak istediğiniz sayıyı girin: \"))\n",
    "sonuc = faktoriyel(sayi)\n",
    "\n",
    "print(\"{} sayısının faktöriyeli = {}\".format(sayi, sonuc))"
   ]
  },
  {
   "cell_type": "markdown",
   "metadata": {},
   "source": [
    "+ Attributes değerleri  id, isim, soyisim, doğum yılı, departman, haftada kaç saat çalıştığı, saatlik ücret olan personel class’ı oluşturulur. Attributler print ve formatlama ile ekrana yazdırılır."
   ]
  },
  {
   "cell_type": "code",
   "execution_count": 5,
   "metadata": {},
   "outputs": [
    {
     "name": "stdout",
     "output_type": "stream",
     "text": [
      "Personel Bilgileri:\n",
      "ID: 1\n",
      "İsim: Zeynep\n",
      "Soyisim: Atik\n",
      "Doğum Yılı: 2003\n",
      "Departman: Data analist\n",
      "Haftada Çalıştığı Saat: 40\n",
      "Saatlik Ücret: 55\n"
     ]
    }
   ],
   "source": [
    "class Personel:\n",
    "    def __init__(self, id, isim, soyisim, dogum_yili, departman, calisma_saati, saatlik_ucret):\n",
    "        self.id = id\n",
    "        self.isim = isim\n",
    "        self.soyisim = soyisim\n",
    "        self.dogum_yili = dogum_yili\n",
    "        self.departman = departman\n",
    "        self.calisma_saati = calisma_saati\n",
    "        self.saatlik_ucret = saatlik_ucret\n",
    "\n",
    "    def bilgileri_goster(self):\n",
    "        print(\"Personel Bilgileri:\")\n",
    "        print(\"ID:\", self.id)\n",
    "        print(\"İsim:\", self.isim)\n",
    "        print(\"Soyisim:\", self.soyisim)\n",
    "        print(\"Doğum Yılı:\", self.dogum_yili)\n",
    "        print(\"Departman:\", self.departman)\n",
    "        print(\"Haftada Çalıştığı Saat:\", self.calisma_saati)\n",
    "        print(\"Saatlik Ücret:\", self.saatlik_ucret)\n",
    "\n",
    "# Örnek bir personel oluşturalım\n",
    "personel1 = Personel(1, \"Zeynep\", \"Atik\", 2003, \"Data analist\", 40, 55)\n",
    "\n",
    "\n"
   ]
  },
  {
   "cell_type": "markdown",
   "metadata": {},
   "source": [
    "+ • \"Calisan\" adlı bir sınıf tanımlanır. Bu sınıfa \"ad\", \"soyad\", \"maas\" özellikleri eklenir. Bu sınıfta \"calis\" metodu tanımlanır, bu metod çalışanların işyerinde çalıştığını belirten bir çıktı verir."
   ]
  },
  {
   "cell_type": "code",
   "execution_count": 9,
   "metadata": {},
   "outputs": [
    {
     "name": "stdout",
     "output_type": "stream",
     "text": [
      "zeynep atik işyerinde çalışıyor.\n"
     ]
    }
   ],
   "source": [
    "class Calisan:\n",
    "    def __init__(self, ad, soyad, maas):\n",
    "        self.ad = ad\n",
    "        self.soyad = soyad\n",
    "        self.maas = maas\n",
    "\n",
    "    def calis(self):\n",
    "        print(f\"{self.ad} {self.soyad} işyerinde çalışıyor.\")\n",
    "\n",
    "# Örnek bir çalışan oluşturalım\n",
    "calisan1 = Calisan(\"zeynep\", \"atik\", 5000)\n",
    "\n",
    "# Çalışanın çalıştığını belirten bir çıktı alalım\n",
    "calisan1.calis()"
   ]
  },
  {
   "cell_type": "markdown",
   "metadata": {},
   "source": [
    "+ \"Mudur\" adlı bir alt sınıf tanımlanır. Bu sınıf, \"Calisan\" sınıfından miras alır. \" Mudur\" sınıfı, \"Calisan\" sınıfında tanımlanan özelliklere ek olarak, \"departman\" ve \"sicil_no\" gibi özellikler içerir. Bu sınıfta bir \"calis\" metodu tanımlanır, bu metod çalışanların işyerinde yönetici olarak çalıştığını belirten bir çıktı verir."
   ]
  },
  {
   "cell_type": "code",
   "execution_count": 11,
   "metadata": {},
   "outputs": [
    {
     "name": "stdout",
     "output_type": "stream",
     "text": [
      "zeynep atik işyerinde yönetici olarak çalışıyor.\n"
     ]
    }
   ],
   "source": [
    "class Calisan:\n",
    "    def __init__(self, ad, soyad, maas):\n",
    "        self.ad = ad\n",
    "        self.soyad = soyad\n",
    "        self.maas = maas\n",
    "\n",
    "    def calis(self):\n",
    "        print(f\"{self.ad} {self.soyad} işyerinde çalışıyor.\")\n",
    "\n",
    "class Mudur(Calisan):\n",
    "    def __init__(self, ad, soyad, maas, departman, sicil_no):\n",
    "        super().__init__(ad, soyad, maas)\n",
    "        self.departman = departman\n",
    "        self.sicil_no = sicil_no\n",
    "\n",
    "    def calis(self):\n",
    "        print(f\"{self.ad} {self.soyad} işyerinde yönetici olarak çalışıyor.\")\n",
    "\n",
    "# Örnek bir müdür oluşturalım\n",
    "mudur1 = Mudur(\"zeynep\", \"atik\", 8000, \"İnsan Kaynakları\", \"12345\")\n",
    "\n",
    "# Çalışanın çalıştığını belirten bir çıktı alalım\n",
    "mudur1.calis()"
   ]
  }
 ],
 "metadata": {
  "kernelspec": {
   "display_name": "Python 3",
   "language": "python",
   "name": "python3"
  },
  "language_info": {
   "codemirror_mode": {
    "name": "ipython",
    "version": 3
   },
   "file_extension": ".py",
   "mimetype": "text/x-python",
   "name": "python",
   "nbconvert_exporter": "python",
   "pygments_lexer": "ipython3",
   "version": "3.10.3"
  },
  "orig_nbformat": 4
 },
 "nbformat": 4,
 "nbformat_minor": 2
}
